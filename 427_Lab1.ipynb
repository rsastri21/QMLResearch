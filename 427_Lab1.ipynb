{
  "nbformat": 4,
  "nbformat_minor": 0,
  "metadata": {
    "colab": {
      "provenance": []
    },
    "kernelspec": {
      "name": "python3",
      "display_name": "Python 3"
    },
    "language_info": {
      "name": "python"
    }
  },
  "cells": [
    {
      "cell_type": "markdown",
      "source": [
        "# Tasks from 427 Lab 1"
      ],
      "metadata": {
        "id": "FBQmd_Jro4rL"
      }
    },
    {
      "cell_type": "markdown",
      "source": [
        "Looking to implement `scale_data()` and `split_data()` functions."
      ],
      "metadata": {
        "id": "UOIA5e26pEIz"
      }
    },
    {
      "cell_type": "code",
      "source": [
        "import numpy as np\n",
        "import matplotlib.pyplot as plt"
      ],
      "metadata": {
        "id": "8sp3Uc2Xph_t"
      },
      "execution_count": null,
      "outputs": []
    },
    {
      "cell_type": "code",
      "source": [
        "# Helper function to create histogram\n",
        "\n",
        "def create_hist(data, feature):\n",
        "  '''\n",
        "  Creates a histogram for the column data provided.\n",
        "  Uses 20 bins to visualize the data. \n",
        "  '''\n",
        "  # Initialize plot\n",
        "  fig, ax = plt.subplots(figsize=(9, 6))\n",
        "  \n",
        "  # Compute binwidths\n",
        "  start = min(data); stop = max(data)\n",
        "  bin_list = np.linspace(start, stop, 20)\n",
        "  bin_width = (bin_list[-1] - bin_list[0]) / len(bin_list)\n",
        "\n",
        "  # Plot\n",
        "  ax.hist(data, bins=bin_list, label=feature, histtype=\"stepfilled\")\n",
        "\n",
        "  ax.set_xlabel(\"Scaled \" + str(feature))\n",
        "  ax.set_ylabel(\"Count per \" + str(bin_width))\n",
        "  \n",
        "  plt.show()\n"
      ],
      "metadata": {
        "id": "Y6WHmHUTtYVw"
      },
      "execution_count": 15,
      "outputs": []
    },
    {
      "cell_type": "markdown",
      "source": [
        "## Exercise 1: Implement `scale_data()`"
      ],
      "metadata": {
        "id": "pIhYCdOdpKA3"
      }
    },
    {
      "cell_type": "code",
      "source": [
        "def scale_data(input_array):\n",
        "  '''\n",
        "  A function to scale the data using the Standard Scaling method.\n",
        "  Takes a 2d numpy array and outputs the array scaled according to each column.\n",
        "  '''\n",
        "\n",
        "  output_arr = input_array.copy()\n",
        "\n",
        "  # First and last elements are identifiers and not data points\n",
        "  # So, they will not be scaled with the rest of the columns\n",
        "\n",
        "  for i in range(np.shape(input_array)[1]):\n",
        "    mean = np.mean(input_array[:, i].flatten())\n",
        "    std = np.std(input_array[:, i].flatten())\n",
        "    output_arr[:, i] = (output_arr[:, i] - mean) / std\n",
        "\n",
        "  return output_arr"
      ],
      "metadata": {
        "id": "BUUmCegBpODu"
      },
      "execution_count": 19,
      "outputs": []
    },
    {
      "cell_type": "code",
      "source": [
        "# Open file\n",
        "\n",
        "path = \"/content/drive/MyDrive/Colab Notebooks/427_Labs/Lab_1_Template/hgcal.csv\"\n",
        "csv_data = np.genfromtxt(path, delimiter=',', dtype=np.float64)\n",
        "\n",
        "# Select numerical portions\n",
        "csv_data = csv_data[1:, 1:-1]\n",
        "\n",
        "# Create histogram for x column\n",
        "create_hist(csv_data[:, 0].flatten(), \"x\")\n",
        "\n",
        "# Create histogram for energy column\n",
        "create_hist(csv_data[:, 5].flatten(), \"energy\")\n"
      ],
      "metadata": {
        "id": "cMmCgLaaqSna",
        "colab": {
          "base_uri": "https://localhost:8080/",
          "height": 759
        },
        "outputId": "bb43beff-49cd-4771-9942-bbb386765629"
      },
      "execution_count": 21,
      "outputs": [
        {
          "output_type": "display_data",
          "data": {
            "text/plain": [
              "<Figure size 648x432 with 1 Axes>"
            ],
            "image/png": "[encoded data removed]"
          },
          "metadata": {
            "needs_background": "light"
          }
        },
        {
          "output_type": "display_data",
          "data": {
            "text/plain": [
              "<Figure size 648x432 with 1 Axes>"
            ],
            "image/png": "[encoded data removed]"
          },
          "metadata": {
            "needs_background": "light"
          }
        }
      ]
    },
    {
      "cell_type": "markdown",
      "source": [
        "## Exercise 2: Implement `split_data()`"
      ],
      "metadata": {
        "id": "1xGspELaxOhV"
      }
    },
    {
      "cell_type": "code",
      "source": [
        "def split_data(arr, split_proportions, axis):\n",
        "  '''\n",
        "  A function to split data into sub-arrays.\n",
        "  Takes an input 2D numpy array, a list of splitting proportions, and the axis\n",
        "  along which to split.\n",
        "  '''\n",
        "  quantity_to_split = 0\n",
        "\n",
        "  if axis == 0:\n",
        "    quantity_to_split = np.shape(arr)[0]\n",
        "  else: \n",
        "    quantity_to_split = np.shape(arr)[1]\n",
        "  \n",
        "  dimensions = []\n",
        "\n",
        "  for i in split_proportions:\n",
        "    dimensions.append(int(i * quantity_to_split))\n",
        "  \n",
        "  # Output data\n",
        "  sub_array_list = []\n",
        "\n",
        "  iter = 0\n",
        "  low_dim = 0\n",
        "  for i in range(1, quantity_to_split + 1):\n",
        "      if dimensions[iter] == i - low_dim:\n",
        "        iter += 1\n",
        "        if axis == 0:\n",
        "          sub_array_list.append(arr[low_dim:i, :])\n",
        "        elif axis == 1:\n",
        "          sub_array_list.append(arr[:, low_dim:i])\n",
        "        low_dim = i\n",
        "\n",
        "  return sub_array_list\n"
      ],
      "metadata": {
        "id": "rkT0KQFnxRzj"
      },
      "execution_count": 65,
      "outputs": []
    },
    {
      "cell_type": "code",
      "source": [
        "# Test caes from lab 1 template\n",
        "\n",
        "sub_arrays = split_data(csv_data, [0.5, 0.5], 1)\n",
        "print(sub_arrays[0].shape, sub_arrays[1].shape)\n",
        "\n",
        "sub_arrays = split_data(csv_data, [0.6, 0.2, 0.2], 0)\n",
        "print(sub_arrays[0].shape, sub_arrays[1].shape, sub_arrays[2].shape)"
      ],
      "metadata": {
        "colab": {
          "base_uri": "https://localhost:8080/"
        },
        "id": "oh4U-yxk1Kql",
        "outputId": "db449006-fad2-49c1-c638-d6e57a99cf61"
      },
      "execution_count": 66,
      "outputs": [
        {
          "output_type": "stream",
          "name": "stdout",
          "text": [
            "(420, 3) (420, 3)\n",
            "(252, 6) (84, 6) (84, 6)\n"
          ]
        }
      ]
    },
    {
      "cell_type": "markdown",
      "source": [
        "The function behaves as expected. "
      ],
      "metadata": {
        "id": "7RLl8cIQ5yts"
      }
    }
  ]
}