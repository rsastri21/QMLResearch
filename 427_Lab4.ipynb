{
  "cells": [
    {
      "cell_type": "markdown",
      "metadata": {
        "id": "view-in-github",
        "colab_type": "text"
      },
      "source": [
        "<a href=\"https://colab.research.google.com/github/rsastri21/QMLResearch/blob/main/427_Lab4.ipynb\" target=\"_parent\"><img src=\"https://colab.research.google.com/assets/colab-badge.svg\" alt=\"Open In Colab\"/></a>"
      ]
    },
    {
      "cell_type": "markdown",
      "id": "99a6b521",
      "metadata": {
        "id": "99a6b521"
      },
      "source": [
        "# Lab 4 Report: \n",
        "## Surpass Human Performance in Fashion MNIST Classificaion"
      ]
    },
    {
      "cell_type": "code",
      "source": [
        "from google.colab import drive\n",
        "drive.mount('/content/drive')"
      ],
      "metadata": {
        "colab": {
          "base_uri": "https://localhost:8080/"
        },
        "id": "WZHbsKvVwfTj",
        "outputId": "dd09ad19-5286-412c-85c1-3da361382ae9"
      },
      "id": "WZHbsKvVwfTj",
      "execution_count": 1,
      "outputs": [
        {
          "output_type": "stream",
          "name": "stdout",
          "text": [
            "Drive already mounted at /content/drive; to attempt to forcibly remount, call drive.mount(\"/content/drive\", force_remount=True).\n"
          ]
        }
      ]
    },
    {
      "cell_type": "code",
      "source": [
        "!pip uninstall scikit-learn -y \n",
        "\n",
        "!pip install -U scikit-learn"
      ],
      "metadata": {
        "colab": {
          "base_uri": "https://localhost:8080/",
          "height": 337
        },
        "id": "iMeu43wu2TyK",
        "outputId": "3f935db1-80fe-40da-b419-2bcc59feed90"
      },
      "id": "iMeu43wu2TyK",
      "execution_count": 8,
      "outputs": [
        {
          "output_type": "stream",
          "name": "stdout",
          "text": [
            "Found existing installation: scikit-learn 1.0.2\n",
            "Uninstalling scikit-learn-1.0.2:\n",
            "  Successfully uninstalled scikit-learn-1.0.2\n",
            "Looking in indexes: https://pypi.org/simple, https://us-python.pkg.dev/colab-wheels/public/simple/\n",
            "Collecting scikit-learn\n",
            "  Downloading scikit_learn-1.2.1-cp38-cp38-manylinux_2_17_x86_64.manylinux2014_x86_64.whl (9.8 MB)\n",
            "\u001b[2K     \u001b[90m━━━━━━━━━━━━━━━━━━━━━━━━━━━━━━━━━━━━━━━━\u001b[0m \u001b[32m9.8/9.8 MB\u001b[0m \u001b[31m88.2 MB/s\u001b[0m eta \u001b[36m0:00:00\u001b[0m\n",
            "\u001b[?25hRequirement already satisfied: joblib>=1.1.1 in /usr/local/lib/python3.8/dist-packages (from scikit-learn) (1.2.0)\n",
            "Requirement already satisfied: scipy>=1.3.2 in /usr/local/lib/python3.8/dist-packages (from scikit-learn) (1.7.3)\n",
            "Requirement already satisfied: numpy>=1.17.3 in /usr/local/lib/python3.8/dist-packages (from scikit-learn) (1.21.6)\n",
            "Requirement already satisfied: threadpoolctl>=2.0.0 in /usr/local/lib/python3.8/dist-packages (from scikit-learn) (3.1.0)\n",
            "Installing collected packages: scikit-learn\n",
            "Successfully installed scikit-learn-1.2.1\n"
          ]
        },
        {
          "output_type": "display_data",
          "data": {
            "application/vnd.colab-display-data+json": {
              "pip_warning": {
                "packages": [
                  "sklearn"
                ]
              }
            }
          },
          "metadata": {}
        }
      ]
    },
    {
      "cell_type": "markdown",
      "id": "b113a4a8",
      "metadata": {
        "id": "b113a4a8"
      },
      "source": [
        "### Name: Rohan Sastri"
      ]
    },
    {
      "cell_type": "code",
      "execution_count": 2,
      "id": "835b6358",
      "metadata": {
        "id": "835b6358"
      },
      "outputs": [],
      "source": [
        "%matplotlib inline\n",
        "import matplotlib.pyplot as plt\n",
        "import torch\n",
        "import numpy as np\n",
        "\n",
        "from sklearn.preprocessing import StandardScaler\n",
        "from sklearn.model_selection import train_test_split"
      ]
    },
    {
      "cell_type": "code",
      "execution_count": 3,
      "id": "04a73760",
      "metadata": {
        "id": "04a73760"
      },
      "outputs": [],
      "source": [
        "from IPython.display import Image # For displaying images in colab jupyter cell"
      ]
    },
    {
      "cell_type": "code",
      "execution_count": 3,
      "id": "931b6374",
      "metadata": {
        "id": "931b6374",
        "outputId": "adf7aa19-08d9-40e8-8cba-a8a40e198115",
        "colab": {
          "base_uri": "https://localhost:8080/",
          "height": 169
        }
      },
      "outputs": [
        {
          "output_type": "error",
          "ename": "NameError",
          "evalue": "ignored",
          "traceback": [
            "\u001b[0;31m---------------------------------------------------------------------------\u001b[0m",
            "\u001b[0;31mNameError\u001b[0m                                 Traceback (most recent call last)",
            "\u001b[0;32m<ipython-input-3-9c45890d664b>\u001b[0m in \u001b[0;36m<module>\u001b[0;34m\u001b[0m\n\u001b[0;32m----> 1\u001b[0;31m \u001b[0mImage\u001b[0m\u001b[0;34m(\u001b[0m\u001b[0;34m'lab4_exercise.png'\u001b[0m\u001b[0;34m,\u001b[0m \u001b[0mwidth\u001b[0m \u001b[0;34m=\u001b[0m \u001b[0;36m1000\u001b[0m\u001b[0;34m)\u001b[0m\u001b[0;34m\u001b[0m\u001b[0;34m\u001b[0m\u001b[0m\n\u001b[0m",
            "\u001b[0;31mNameError\u001b[0m: name 'Image' is not defined"
          ]
        }
      ],
      "source": [
        "Image('lab4_exercise.png', width = 1000)"
      ]
    },
    {
      "cell_type": "markdown",
      "id": "9dcc1fbb",
      "metadata": {
        "id": "9dcc1fbb"
      },
      "source": [
        "## Prepare Data"
      ]
    },
    {
      "cell_type": "code",
      "execution_count": 37,
      "id": "5dfa7da9",
      "metadata": {
        "id": "5dfa7da9",
        "colab": {
          "base_uri": "https://localhost:8080/"
        },
        "outputId": "66474d47-0ee3-49df-e087-4cf1c52081db"
      },
      "outputs": [
        {
          "output_type": "stream",
          "name": "stdout",
          "text": [
            "Training Features Shape:  (10000, 28, 28)\n",
            "Training Targets Shape:  (10000,)\n",
            "Testing Features Shape:  (1000, 28, 28)\n",
            "Testing Targets Shape:  (1000,)\n"
          ]
        }
      ],
      "source": [
        "# Load Fashion-MNIST Dataset in Numpy\n",
        "\n",
        "# 10000 training features/targets where each feature is a greyscale image with shape (28, 28)\n",
        "train_features = np.load('/content/drive/MyDrive/Colab Notebooks/427_Labs/Lab4_Template/fashion_mnist_train_features.npy') \n",
        "train_targets = np.load('/content/drive/MyDrive/Colab Notebooks/427_Labs/Lab4_Template/fashion_mnist_train_targets.npy')\n",
        "\n",
        "# 1000 testing features/targets \n",
        "test_features = np.load('/content/drive/MyDrive/Colab Notebooks/427_Labs/Lab4_Template/fashion_mnist_test_features.npy')\n",
        "test_targets = np.load('/content/drive/MyDrive/Colab Notebooks/427_Labs/Lab4_Template/fashion_mnist_test_targets.npy')\n",
        "\n",
        "# Let's see the shapes of training/testing datasets\n",
        "print(\"Training Features Shape: \", train_features.shape)\n",
        "print(\"Training Targets Shape: \", train_targets.shape)\n",
        "print(\"Testing Features Shape: \", test_features.shape)\n",
        "print(\"Testing Targets Shape: \", test_targets.shape)"
      ]
    },
    {
      "cell_type": "code",
      "execution_count": 5,
      "id": "25c1e6ec",
      "metadata": {
        "id": "25c1e6ec",
        "colab": {
          "base_uri": "https://localhost:8080/",
          "height": 231
        },
        "outputId": "d805517b-87cb-49ee-9b43-fc453da6d90b"
      },
      "outputs": [
        {
          "output_type": "execute_result",
          "data": {
            "text/plain": [
              "<matplotlib.image.AxesImage at 0x7fb052d06520>"
            ]
          },
          "metadata": {},
          "execution_count": 5
        },
        {
          "output_type": "display_data",
          "data": {
            "text/plain": [
              "<Figure size 720x720 with 3 Axes>"
            ],
            "image/png": "[encoded data removed]"
          },
          "metadata": {
            "needs_background": "light"
          }
        }
      ],
      "source": [
        "# Visualizing the first three training features (samples)\n",
        "\n",
        "plt.figure(figsize = (10, 10))\n",
        "\n",
        "plt.subplot(1,3,1)\n",
        "plt.imshow(train_features[0], cmap = 'Greys')\n",
        "\n",
        "plt.subplot(1,3,2)\n",
        "plt.imshow(train_features[1], cmap = 'Greys')\n",
        "\n",
        "plt.subplot(1,3,3)\n",
        "plt.imshow(train_features[2], cmap = 'Greys')"
      ]
    },
    {
      "cell_type": "code",
      "execution_count": 38,
      "id": "ac9be3f7",
      "metadata": {
        "id": "ac9be3f7"
      },
      "outputs": [],
      "source": [
        "# Perform standard scaling on the training and testing features\n",
        "# After scaling, make sure you reshape the training features back to (10000, 28, 28) and testing features to (1000, 28, 28)\n",
        "# since CNNs take 2D tensors as inputs\n",
        "\n",
        "train_features_flat = train_features.reshape((10000, 28 * 28))\n",
        "test_features_flat = test_features.reshape((1000, 28 * 28))\n",
        "\n",
        "scaler = StandardScaler()\n",
        "\n",
        "train_features = scaler.fit_transform(train_features_flat).reshape((10000, 28, 28))\n",
        "test_features = scaler.fit_transform(test_features_flat).reshape((1000, 28, 28))"
      ]
    },
    {
      "cell_type": "code",
      "execution_count": 39,
      "id": "a2025caf",
      "metadata": {
        "id": "a2025caf"
      },
      "outputs": [],
      "source": [
        "# Take the first 1000 (or randomly select 1000) training features and targets as validation set \n",
        "\n",
        "validation_features = train_features[:1000]\n",
        "validation_targets = train_targets[:1000]\n",
        "\n",
        "# Take the remaining 9000 training features and targets as training set \n",
        "\n",
        "train_features = train_features[1000:]\n",
        "train_targets = train_targets[1000:]"
      ]
    },
    {
      "cell_type": "code",
      "execution_count": 40,
      "id": "8c8f2369",
      "metadata": {
        "id": "8c8f2369"
      },
      "outputs": [],
      "source": [
        "# Reshape train/validation/test sets to conform to PyTorch's (N, Channels, Height, Width) standard for CNNs\n",
        "\n",
        "train_features = np.reshape(train_features, (9000, 1, 28, 28))\n",
        "validation_features = np.reshape(validation_features, (1000, 1, 28, 28))\n",
        "test_features = np.reshape(test_features, (1000, 1, 28, 28))"
      ]
    },
    {
      "cell_type": "markdown",
      "id": "9b3ac541",
      "metadata": {
        "id": "9b3ac541"
      },
      "source": [
        "## Define Model"
      ]
    },
    {
      "cell_type": "code",
      "execution_count": 36,
      "id": "c8355384",
      "metadata": {
        "id": "c8355384"
      },
      "outputs": [],
      "source": [
        "# Define your CNN architecture here\n",
        "\n",
        "class CNNModel(torch.nn.Module):\n",
        "    \n",
        "    def __init__(self):\n",
        "        \n",
        "        super(CNNModel, self).__init__()\n",
        "        \n",
        "        self.cnn1 = torch.nn.Conv2d(in_channels=1, out_channels=16,\n",
        "                                    kernel_size=5, stride=1, padding=2)\n",
        "        self.maxpool1 = torch.nn.MaxPool2d(kernel_size=2)\n",
        "        self.cnn2 = torch.nn.Conv2d(in_channels=16, out_channels=32,\n",
        "                                    kernel_size=5, stride=1, padding=2)\n",
        "        self.maxpool2 = torch.nn.MaxPool2d(kernel_size=2)\n",
        "        self.fc1 = torch.nn.Linear(32 * 7 * 7, 10)\n",
        "    \n",
        "    def forward(self, x):\n",
        "        \n",
        "        # YOUR CODE HERE\n",
        "        # Note: If you are using CrossEntropyLoss() do NOT apply softmax to the final ouput \n",
        "        # since it's incorporated within the loss function\n",
        "\n",
        "        conv1_out = torch.nn.functional.relu(self.cnn1(x))\n",
        "        pool1_out = self.maxpool1(conv1_out)\n",
        "\n",
        "        conv2_out = torch.nn.functional.relu(self.cnn2(pool1_out))\n",
        "        pool2_out = self.maxpool2(conv2_out)\n",
        "\n",
        "        fcn_input = pool2_out.view(pool2_out.size(0), -1)\n",
        "\n",
        "        output = self.fc1(fcn_input)\n",
        "        \n",
        "        return output\n",
        "    "
      ]
    },
    {
      "cell_type": "markdown",
      "id": "b9624830",
      "metadata": {
        "id": "b9624830"
      },
      "source": [
        "## Select Hyperparameters"
      ]
    },
    {
      "cell_type": "code",
      "execution_count": 41,
      "id": "1d668a01",
      "metadata": {
        "id": "1d668a01"
      },
      "outputs": [],
      "source": [
        "# Fix the random seed so that model performance is reproducible\n",
        "torch.manual_seed(55)\n",
        "\n",
        "# Initialize your CNN model\n",
        "\n",
        "model = CNNModel()\n",
        "\n",
        "# Define learning rate, epoch and batchsize for mini-batch gradient\n",
        "\n",
        "learning_rate = 0.003\n",
        "epochs = 20\n",
        "batchsize = 100\n",
        "\n",
        "# Define loss function and optimizer\n",
        "\n",
        "loss_func = torch.nn.CrossEntropyLoss()\n",
        "optimizer = torch.optim.Adam(model.parameters(), lr = learning_rate)\n",
        "\n",
        "if torch.cuda.is_available():\n",
        "    model.cuda()"
      ]
    },
    {
      "cell_type": "markdown",
      "id": "9c3045df",
      "metadata": {
        "id": "9c3045df"
      },
      "source": [
        "## Identify Tracked Values"
      ]
    },
    {
      "cell_type": "code",
      "execution_count": 42,
      "id": "638259ed",
      "metadata": {
        "id": "638259ed"
      },
      "outputs": [],
      "source": [
        "# Placeholders for training loss and validation accuracy during training\n",
        "# Training loss should be tracked for each iteration (1 iteration -> single forward pass to the network)\n",
        "# Validation accuracy should be evaluated every 'Epoch' (1 epoch -> full training dataset)\n",
        "# If using batch gradient, 1 iteration = 1 epoch\n",
        "\n",
        "train_loss_list = []\n",
        "validation_accuracy_list = np.zeros((epochs,))"
      ]
    },
    {
      "cell_type": "markdown",
      "id": "a1fbc523",
      "metadata": {
        "id": "a1fbc523"
      },
      "source": [
        "## Train Model"
      ]
    },
    {
      "cell_type": "code",
      "execution_count": 43,
      "id": "02a5f590",
      "metadata": {
        "id": "02a5f590",
        "colab": {
          "base_uri": "https://localhost:8080/"
        },
        "outputId": "3cbde767-a422-4c08-ed49-d75cdcb91898"
      },
      "outputs": [
        {
          "output_type": "stream",
          "name": "stderr",
          "text": [
            "100%|██████████| 20/20 [00:03<00:00,  5.25it/s]\n"
          ]
        }
      ],
      "source": [
        "import tqdm # Use \"for epoch in tqdm.trange(epochs):\" to see the progress bar\n",
        "\n",
        "# Convert the training, validation, testing dataset (NumPy arrays) into torch tensors\n",
        "# Split your training features/targets into mini-batches if using mini-batch gradient\n",
        "\n",
        "train_inputs = torch.from_numpy(train_features).float().cuda()\n",
        "train_targets = torch.from_numpy(train_targets).long().cuda()\n",
        "\n",
        "validation_inputs = torch.from_numpy(validation_features).float().cuda()\n",
        "validation_targets = torch.from_numpy(validation_targets).long().cuda()\n",
        "\n",
        "testing_inputs = torch.from_numpy(test_features).float().cuda()\n",
        "testing_targets = torch.from_numpy(test_targets).long().cuda()\n",
        "\n",
        "train_batches_features = torch.split(train_inputs, batchsize)\n",
        "train_batches_targets = torch.split(train_targets, batchsize)\n",
        "\n",
        "batch_split_num = len(train_batches_features)\n",
        " \n",
        "# Training Loop ---------------------------------------------------------------------------------------\n",
        "\n",
        "for epoch in tqdm.trange(epochs):\n",
        "    \n",
        "    for k in range(batch_split_num):\n",
        "\n",
        "      optimizer.zero_grad()\n",
        "\n",
        "      train_batch_outputs = model(train_batches_features[k])\n",
        "\n",
        "      loss = loss_func(train_batch_outputs, train_batches_targets[k])\n",
        "\n",
        "      train_loss_list.append(loss.item())\n",
        "\n",
        "      loss.backward()\n",
        "\n",
        "      optimizer.step()\n",
        "\n",
        "    # Compute Validation Accuracy ----------------------------------------------------------------------\n",
        "\n",
        "    with torch.no_grad():\n",
        "\n",
        "      validation_outputs = model(validation_inputs)\n",
        "\n",
        "      correct = (torch.argmax(validation_outputs, dim=1) == validation_targets).type(torch.FloatTensor)\n",
        "\n",
        "      validation_accuracy_list[epoch] = correct.mean()\n"
      ]
    },
    {
      "cell_type": "markdown",
      "id": "adf9a22e",
      "metadata": {
        "id": "adf9a22e"
      },
      "source": [
        "## Visualize & Evaluate Model"
      ]
    },
    {
      "cell_type": "code",
      "execution_count": 25,
      "id": "3bc0863f",
      "metadata": {
        "id": "3bc0863f"
      },
      "outputs": [],
      "source": [
        "# Seaborn for prettier plot\n",
        "\n",
        "import seaborn as sns\n",
        "\n",
        "sns.set(style = 'whitegrid', font_scale = 1)"
      ]
    },
    {
      "cell_type": "code",
      "execution_count": 44,
      "id": "b23f333c",
      "metadata": {
        "id": "b23f333c",
        "colab": {
          "base_uri": "https://localhost:8080/",
          "height": 540
        },
        "outputId": "17d21901-97fb-42df-b0a4-7066ea98fd51"
      },
      "outputs": [
        {
          "output_type": "display_data",
          "data": {
            "text/plain": [
              "<Figure size 1080x648 with 2 Axes>"
            ],
            "image/png": "[encoded data removed]"
          },
          "metadata": {}
        }
      ],
      "source": [
        "# Visualize training loss\n",
        "\n",
        "plt.figure(figsize = (15, 9))\n",
        "\n",
        "plt.subplot(2, 1, 1)\n",
        "plt.plot(train_loss_list, linewidth = 3)\n",
        "plt.ylabel(\"training loss\")\n",
        "plt.xlabel(\"iterations\")\n",
        "sns.despine()\n",
        "\n",
        "plt.subplot(2, 1, 2)\n",
        "plt.plot(validation_accuracy_list, linewidth = 3, color = 'gold')\n",
        "plt.ylabel(\"validation accuracy\")\n",
        "sns.despine()"
      ]
    },
    {
      "cell_type": "code",
      "execution_count": 45,
      "id": "ee8589b6",
      "metadata": {
        "id": "ee8589b6",
        "colab": {
          "base_uri": "https://localhost:8080/"
        },
        "outputId": "85beba4d-98e4-4bb6-9b5f-b54d22e68a78"
      },
      "outputs": [
        {
          "output_type": "stream",
          "name": "stdout",
          "text": [
            "Testing Accuracy: 0.864\n"
          ]
        }
      ],
      "source": [
        "# Compute the testing accuracy \n",
        "\n",
        "with torch.no_grad():\n",
        "\n",
        "  y_pred_test = model(testing_inputs)\n",
        "\n",
        "  correct = (torch.argmax(y_pred_test, dim=1) == testing_targets).type(torch.FloatTensor)\n",
        "\n",
        "  print(\"Testing Accuracy: \" + str(correct.mean().numpy()))"
      ]
    },
    {
      "cell_type": "code",
      "execution_count": null,
      "id": "95a5fdb2",
      "metadata": {
        "scrolled": true,
        "id": "95a5fdb2"
      },
      "outputs": [],
      "source": [
        "# (OPTIONAL) Print the testing accuracy for each fashion class. Your code should produce something that looks like:\n",
        "# Clever usage of np.where() could be useful here\n",
        "\n",
        "# \"Accuracy of T-shirt/top: 93.5 %\"\n",
        "# \"Accuracy of Trouser: 89.3 %\"\n",
        "# etc...\n",
        "\n",
        "# What's the fashion item that your model had the hardest time classifying?\n",
        "\n",
        "# YOUR CODE HERE"
      ]
    }
  ],
  "metadata": {
    "kernelspec": {
      "display_name": "Python 3 (ipykernel)",
      "language": "python",
      "name": "python3"
    },
    "language_info": {
      "codemirror_mode": {
        "name": "ipython",
        "version": 3
      },
      "file_extension": ".py",
      "mimetype": "text/x-python",
      "name": "python",
      "nbconvert_exporter": "python",
      "pygments_lexer": "ipython3",
      "version": "3.9.7"
    },
    "colab": {
      "provenance": [],
      "include_colab_link": true
    },
    "accelerator": "GPU",
    "gpuClass": "standard"
  },
  "nbformat": 4,
  "nbformat_minor": 5
}